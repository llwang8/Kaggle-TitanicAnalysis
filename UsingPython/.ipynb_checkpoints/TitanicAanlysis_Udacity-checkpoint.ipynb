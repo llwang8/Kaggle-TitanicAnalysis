{
 "cells": [
  {
   "cell_type": "markdown",
   "metadata": {},
   "source": [
    "# Kaggle Competition: Titanic Analysis\n",
    "\n",
    "More information about the data can be seen at the link below:\n",
    "http://www.kaggle.com/c/titanic-gettingStarted/data."
   ]
  },
  {
   "cell_type": "markdown",
   "metadata": {},
   "source": [
    "This analysis follows Udacity's course - Intro to Data Science.\n",
    "\n",
    "In following exercises, we will perform some rudimentary practices similar to those of an actual data scientist.\n",
    "    \n",
    "Part of a data scientist's job is to use her or his intuition and insight to write algorithms and heuristics. A data scientist also creates mathematical models to make predictions based on some attributes from the data that they are examining.\n",
    "    \n",
    "Write your prediction back into the \"predictions\" dictionary. The key of the dictionary should be the Passenger's id (which can be accessed via passenger[\"PassengerId\"]) and the associated value should be 1 if the passenger survived or 0 otherwise. \n",
    "\n",
    "You can also look at the Titantic data that you will be working with at the link below:\n",
    "https://s3.amazonaws.com/content.udacity-data.com/courses/ud359/titanic_data.csv\n"
   ]
  },
  {
   "cell_type": "code",
   "execution_count": 9,
   "metadata": {
    "collapsed": true
   },
   "outputs": [],
   "source": [
    "import numpy\n",
    "import pandas\n",
    "import statsmodels.api as sm\n",
    "import csv as csv\n",
    "\n",
    "filepath = '../csv/train.csv'"
   ]
  },
  {
   "cell_type": "code",
   "execution_count": 2,
   "metadata": {
    "collapsed": true
   },
   "outputs": [],
   "source": [
    "# Helper Functions\n",
    "\n",
    "def create_title_col(ddf):\n",
    "    ddf['Title'] = ddf['Name'].str.extract('([A-Z]\\w{0,}\\.)', expand=True)\n",
    "    ddf.loc[ddf[\"Title\"] == \"Mlle.\", \"Title\"] = 'Miss.'\n",
    "    ddf.loc[ddf[\"Title\"] == \"Ms.\", \"Title\"] = 'Miss.'\n",
    "    ddf.loc[ddf[\"Title\"] == \"Mme.\", \"Title\"] = 'Mrs.'\n",
    "    ddf.loc[ddf[\"Title\"] == \"Dona.\", \"Title\"] = 'Rare.'\n",
    "    ddf.loc[ddf[\"Title\"] == \"Lady.\", \"Title\"] = 'Rare.'\n",
    "    ddf.loc[ddf[\"Title\"] == \"Countess.\", \"Title\"] = 'Rare.'\n",
    "    ddf.loc[ddf[\"Title\"] == \"Capt.\", \"Title\"] = 'Rare.'\n",
    "    ddf.loc[ddf[\"Title\"] == \"Col.\", \"Title\"] = 'Rare.'\n",
    "    ddf.loc[ddf[\"Title\"] == \"Don.\", \"Title\"] = 'Rare.'\n",
    "    ddf.loc[ddf[\"Title\"] == \"Major.\", \"Title\"] = 'Rare.'\n",
    "    ddf.loc[ddf[\"Title\"] == \"Rev.\", \"Title\"] = 'Rare.'\n",
    "    ddf.loc[ddf[\"Title\"] == \"Sir.\", \"Title\"] = 'Rare.'\n",
    "    ddf.loc[ddf[\"Title\"] == \"Jonkheer.\", \"Title\"] = 'Rare.'\n",
    "    ddf.loc[ddf[\"Title\"] == \"Dr.\", \"Title\"] = 'Rare.'\n",
    "    ddf.loc[ddf[\"Title\"] == \"Master.\", \"Title\"] = 'Rare.'\n",
    "    ddf.loc[ddf['Title'] == 'Mr.', 'TitleNum' ] = 1\n",
    "    ddf.loc[ddf['Title'] == 'Miss.', 'TitleNum'] = 2\n",
    "    ddf.loc[ddf['Title'] == 'Mrs.', 'TitleNum' ] = 3\n",
    "    ddf.loc[ddf['Title'] == 'Rare.', 'TitleNum' ] = 4\n",
    "    return ddf\n",
    "\n",
    "def create_familysize_col(ddf):\n",
    "    ddf['FamilySize'] = ddf['SibSp'] + ddf['Parch'] + 1\n",
    "    \n",
    "    ddf['FsizeD'] = 1\n",
    "    ddf.loc[ (ddf['FamilySize'] > 1) & (ddf['FamilySize'] < 5), 'FsizeD'] = 2\n",
    "    ddf.loc[ ddf['FamilySize'] >= 5, 'FsizeD'] = 3\n",
    "    \n",
    "    return ddf\n",
    "\n",
    "def create_ageclass_col(ddf):\n",
    "    ddf['Age*Class'] = ddf.Age * ddf.Pclass\n",
    "    \n",
    "    #bins = [0, 20, 40, 57, 85]\n",
    "    #group_names = ['a', 'b', 'c', 'd']\n",
    "    #df['Age*ClassD'] = pd.cut(df['Age*Class'], bins, labels=group_names)\n",
    "    \n",
    "    return df"
   ]
  },
  {
   "cell_type": "code",
   "execution_count": 3,
   "metadata": {
    "collapsed": false
   },
   "outputs": [],
   "source": [
    "#output file to be submitted to Kaggle\n",
    "import csv as csv\n",
    "\n",
    "test_filepath = '../csv/test.csv'\n",
    "tdf = pandas.read_csv(test_filepath)\n",
    "test_passengerID_list = tdf['PassengerId']\n",
    "\n",
    "def output_csv(filename, pred_dict):\n",
    "    prediction_file = open(filename, \"wb\")\n",
    "    prediction_file_object = csv.writer(prediction_file)\n",
    "    prediction_file_object.writerow([\"PassengerId\", \"Survived\"])\n",
    "    for i in range(0, len(test_passengerID_list)):\n",
    "        prediction_file_object.writerow( [ int(test_passengerID_list[i]), int(pred_dict[test_passengerID_list[i]]) ] )\n",
    "    prediction_file.close()"
   ]
  },
  {
   "cell_type": "code",
   "execution_count": 4,
   "metadata": {
    "collapsed": true
   },
   "outputs": [],
   "source": [
    "def simple_heuristic(file_path):\n",
    "    '''    \n",
    "    Here's a simple heuristic to start off:\n",
    "       1) If the passenger is female, your heuristic should assume that the\n",
    "       passenger survived.\n",
    "       2) If the passenger is male, you heuristic should\n",
    "       assume that the passenger did not survive.\n",
    "    \n",
    "    You can access the gender of a passenger via passenger['Sex'].\n",
    "    If the passenger is male, passenger['Sex'] will return a string \"male\".\n",
    "    If the passenger is female, passenger['Sex'] will return a string \"female\".\n",
    "    \n",
    "    You prediction should be 78% accurate or higher.\n",
    "    \n",
    "    '''\n",
    "    predictions = {}\n",
    "    df = pandas.read_csv(file_path)\n",
    "    for passenger_index, passenger in df.iterrows():\n",
    "        passenger_id = passenger['PassengerId']\n",
    "      \n",
    "        if passenger['Sex'] == 'female':\n",
    "            predictions[passenger_id] = 1\n",
    "        else:\n",
    "            predictions[passenger_id] = 0\n",
    "        \n",
    "    return predictions\n",
    "\n",
    "# 78.12%"
   ]
  },
  {
   "cell_type": "code",
   "execution_count": 5,
   "metadata": {
    "collapsed": false
   },
   "outputs": [],
   "source": [
    "def complex_heuristic(file_path):\n",
    "    ''' \n",
    "    Here's the algorithm, predict the passenger survived if:\n",
    "    1) If the passenger is female or\n",
    "    2) if his/her socioeconomic status is high AND if the passenger is under 18\n",
    "    \n",
    "    Otherwise, your algorithm should predict that the passenger perished in the disaster.\n",
    "    \n",
    "    Or more specifically in terms of coding:\n",
    "    female or (high status and under 18)\n",
    "    \n",
    "    You can access the gender of a passenger via passenger['Sex'].\n",
    "    If the passenger is male, passenger['Sex'] will return a string \"male\".\n",
    "    If the passenger is female, passenger['Sex'] will return a string \"female\".\n",
    "    \n",
    "    You can access the socioeconomic status of a passenger via passenger['Pclass']:\n",
    "    High socioeconomic status -- passenger['Pclass'] is 1\n",
    "    Medium socioeconomic status -- passenger['Pclass'] is 2\n",
    "    Low socioeconomic status -- passenger['Pclass'] is 3\n",
    "\n",
    "    You can access the age of a passenger via passenger['Age'].\n",
    "    \n",
    "    You prediction should be 79% accurate or higher.\n",
    "    '''\n",
    "\n",
    "    predictions = {}\n",
    "    df = pandas.read_csv(file_path)\n",
    "    for passenger_index, passenger in df.iterrows():\n",
    "        passenger_id = passenger['PassengerId']\n",
    "  \n",
    "        if passenger['Sex'] == 'female':\n",
    "            predictions[passenger_id] = 1\n",
    "        elif passenger['Pclass'] == 1 and passenger['Age'] < 18:\n",
    "            predictions[passenger_id] = 1\n",
    "        else:\n",
    "            predictions[passenger_id] = 0\n",
    "            \n",
    "    return predictions\n",
    "\n",
    "# 79.12%"
   ]
  },
  {
   "cell_type": "code",
   "execution_count": 6,
   "metadata": {
    "collapsed": true
   },
   "outputs": [],
   "source": [
    "\n",
    "def custom_heuristic(file_path):\n",
    "    '''\n",
    "    For this exercise, you need to write a custom heuristic that will take\n",
    "    in some combination of the passenger's attributes and predict if the passenger\n",
    "    survived the Titanic diaster.\n",
    "\n",
    "    Can your custom heuristic beat 80% accuracy?\n",
    "    \n",
    "    The available attributes are:\n",
    "    Pclass          Passenger Class\n",
    "                    (1 = 1st; 2 = 2nd; 3 = 3rd)\n",
    "    Name            Name\n",
    "    Sex             Sex\n",
    "    Age             Age\n",
    "    SibSp           Number of Siblings/Spouses Aboard\n",
    "    Parch           Number of Parents/Children Aboard\n",
    "    Ticket          Ticket Number\n",
    "    Fare            Passenger Fare\n",
    "    Cabin           Cabin\n",
    "    Embarked        Port of Embarkation\n",
    "                    (C = Cherbourg; Q = Queenstown; S = Southampton)\n",
    "                    \n",
    "    SPECIAL NOTES:\n",
    "    Pclass is a proxy for socioeconomic status (SES)\n",
    "    1st ~ Upper; 2nd ~ Middle; 3rd ~ Lower\n",
    "\n",
    "    Age is in years; fractional if age less than one\n",
    "    If the age is estimated, it is in the form xx.5\n",
    "\n",
    "    With respect to the family relation variables (i.e. SibSp and Parch)\n",
    "    some relations were ignored. The following are the definitions used\n",
    "    for SibSp and Parch.\n",
    "\n",
    "    Sibling:  brother, sister, stepbrother, or stepsister of passenger aboard Titanic\n",
    "    Spouse:   husband or wife of passenger aboard Titanic (mistresses and fiancees ignored)\n",
    "    Parent:   mother or father of passenger aboard Titanic\n",
    "    Child:    son, daughter, stepson, or stepdaughter of passenger aboard Titanic\n",
    "    '''    \n",
    "    predictions = {}\n",
    "    df = pandas.read_csv(file_path)\n",
    "    df = create_title_col(df)\n",
    "    df = create_familysize_col(df)\n",
    "    \n",
    "    for passenger_index, passenger in df.iterrows():\n",
    "        passenger_id = passenger['PassengerId']\n",
    "        if passenger['Sex'] == 'female' and passenger['FsizeD'] < 3:\n",
    "            predictions[passenger_id] = 1\n",
    "        elif passenger['Pclass'] == 1 and passenger['Age'] < 18:\n",
    "            predictions[passenger_id] = 1\n",
    "        elif passenger['Title'] == 4:\n",
    "            predictions[passenger_id] = 1\n",
    "        else:\n",
    "            predictions[passenger_id] = 0\n",
    "            \n",
    "    return predictions\n",
    "\n",
    "\n",
    "# Udacity Heuristic, Kaggle Score\n",
    "# 0.8081, 0.77512"
   ]
  },
  {
   "cell_type": "code",
   "execution_count": 7,
   "metadata": {
    "collapsed": false
   },
   "outputs": [],
   "source": [
    "# use custom_heuristic prediction result\n",
    "prediction_dict = custom_heuristic(test_filepath)\n",
    "\n",
    "output_csv('output/python01.csv', prediction_dict)\n",
    "\n"
   ]
  },
  {
   "cell_type": "code",
   "execution_count": null,
   "metadata": {
    "collapsed": true
   },
   "outputs": [],
   "source": []
  },
  {
   "cell_type": "code",
   "execution_count": 13,
   "metadata": {
    "collapsed": false
   },
   "outputs": [
    {
     "name": "stdout",
     "output_type": "stream",
     "text": [
      "0      22.0\n",
      "1      38.0\n",
      "2      26.0\n",
      "3      35.0\n",
      "4      35.0\n",
      "5       NaN\n",
      "6      54.0\n",
      "7       2.0\n",
      "8      27.0\n",
      "9      14.0\n",
      "10      4.0\n",
      "11     58.0\n",
      "12     20.0\n",
      "13     39.0\n",
      "14     14.0\n",
      "15     55.0\n",
      "16      2.0\n",
      "17      NaN\n",
      "18     31.0\n",
      "19      NaN\n",
      "20     35.0\n",
      "21     34.0\n",
      "22     15.0\n",
      "23     28.0\n",
      "24      8.0\n",
      "25     38.0\n",
      "26      NaN\n",
      "27     19.0\n",
      "28      NaN\n",
      "29      NaN\n",
      "       ... \n",
      "861    21.0\n",
      "862    48.0\n",
      "863     NaN\n",
      "864    24.0\n",
      "865    42.0\n",
      "866    27.0\n",
      "867    31.0\n",
      "868     NaN\n",
      "869     4.0\n",
      "870    26.0\n",
      "871    47.0\n",
      "872    33.0\n",
      "873    47.0\n",
      "874    28.0\n",
      "875    15.0\n",
      "876    20.0\n",
      "877    19.0\n",
      "878     NaN\n",
      "879    56.0\n",
      "880    25.0\n",
      "881    33.0\n",
      "882    22.0\n",
      "883    28.0\n",
      "884    25.0\n",
      "885    39.0\n",
      "886    27.0\n",
      "887    19.0\n",
      "888     NaN\n",
      "889    26.0\n",
      "890    32.0\n",
      "Name: Age, dtype: float64\n"
     ]
    }
   ],
   "source": [
    "# Get Udacity's train_data 'Age'\n",
    "\n",
    "train_df = pandas.read_csv(filepath)\n",
    "age_utrain = train_df['Age']\n",
    "print age_utrain"
   ]
  },
  {
   "cell_type": "code",
   "execution_count": null,
   "metadata": {
    "collapsed": true
   },
   "outputs": [],
   "source": []
  },
  {
   "cell_type": "code",
   "execution_count": null,
   "metadata": {
    "collapsed": true
   },
   "outputs": [],
   "source": []
  }
 ],
 "metadata": {
  "anaconda-cloud": {},
  "kernelspec": {
   "display_name": "Python [conda root]",
   "language": "python",
   "name": "conda-root-py"
  },
  "language_info": {
   "codemirror_mode": {
    "name": "ipython",
    "version": 2
   },
   "file_extension": ".py",
   "mimetype": "text/x-python",
   "name": "python",
   "nbconvert_exporter": "python",
   "pygments_lexer": "ipython2",
   "version": "2.7.12"
  }
 },
 "nbformat": 4,
 "nbformat_minor": 1
}
